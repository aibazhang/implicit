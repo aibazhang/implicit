{
 "cells": [
  {
   "cell_type": "code",
   "execution_count": 114,
   "metadata": {},
   "outputs": [
    {
     "name": "stdout",
     "output_type": "stream",
     "text": [
      "The autoreload extension is already loaded. To reload it, use:\n",
      "  %reload_ext autoreload\n"
     ]
    }
   ],
   "source": [
    "import numpy as np\n",
    "import sys\n",
    "sys.path.append(\"../tests\")\n",
    "sys.path.append(\"../implicit\")\n",
    "\n",
    "from implicit.als import AlternatingLeastSquares\n",
    "from implicit.approximate_als import (AnnoyAlternatingLeastSquares, FaissAlternatingLeastSquares,\n",
    "                                      NMSLibAlternatingLeastSquares)\n",
    "from implicit.bpr import BayesianPersonalizedRanking\n",
    "from implicit.nearest_neighbours import (BM25Recommender, CosineRecommender,\n",
    "                                         TFIDFRecommender, bm25_weight)\n",
    "from implicit.evaluation import precision_at_k, train_test_split, mean_average_precision_at_k\n",
    "from twitter import get_twitter, read_data\n",
    "from implicit.datasets.lastfm import get_lastfm\n",
    "\n",
    "from recommender_base import RandomRecommender\n",
    "from recommender_base_test import TestRecommenderBaseMixin\n",
    "\n",
    "%load_ext autoreload\n",
    "%autoreload 2"
   ]
  },
  {
   "cell_type": "code",
   "execution_count": 117,
   "metadata": {},
   "outputs": [],
   "source": [
    "# maps command line model argument to class name\n",
    "MODELS = {\"als\":  AlternatingLeastSquares,\n",
    "          \"nmslib_als\": NMSLibAlternatingLeastSquares,\n",
    "          \"annoy_als\": AnnoyAlternatingLeastSquares,\n",
    "          \"faiss_als\": FaissAlternatingLeastSquares,\n",
    "          \"tfidf\": TFIDFRecommender,\n",
    "          \"cosine\": CosineRecommender,\n",
    "          \"bpr\": BayesianPersonalizedRanking,\n",
    "          \"bm25\": BM25Recommender}\n",
    "\n",
    "\n",
    "def get_model(model_name):\n",
    "    model_class = MODELS.get(model_name)\n",
    "    if not model_class:\n",
    "        raise ValueError(\"Unknown Model '%s'\" % model_name)\n",
    "\n",
    "    # some default params\n",
    "    if issubclass(model_class, AlternatingLeastSquares):\n",
    "        params = {'factors': 64, 'dtype': np.float32}\n",
    "    elif model_name == \"bm25\":\n",
    "        params = {'K1': 100, 'B': 0.5}\n",
    "    elif model_name == \"bpr\":\n",
    "        params = {'factors': 63}\n",
    "    else:\n",
    "        params = {}\n",
    "\n",
    "    return model_class(**params)"
   ]
  },
  {
   "cell_type": "code",
   "execution_count": 150,
   "metadata": {},
   "outputs": [],
   "source": [
    "def evaluate_model(model_name=\"als\", dataset='twitter'):\n",
    "    \"\"\"evaluate the model by cross-validation\"\"\"\n",
    "\n",
    "    # train the model based off input params\n",
    "    if dataset is 'twitter':\n",
    "        artists, users, plays = get_twitter()\n",
    "    if dataset is 'lastfm':\n",
    "        artists, users, plays = get_lastfm()\n",
    "        \n",
    "    # create a model from the input data\n",
    "    model = CosineRecommender()\n",
    "\n",
    "    # split data_set to train set and testing set\n",
    "    train, test = train_test_split(plays)\n",
    "    \n",
    "    print(train.shape)\n",
    "    print(test.shape)\n",
    "    # evaluation\n",
    "    p = precision_at_k(model, train.T.tocsr(), test.T.tocsr(), K=20, num_threads=4)\n",
    "    print('precision@k = ', p)"
   ]
  },
  {
   "cell_type": "code",
   "execution_count": 124,
   "metadata": {
    "scrolled": true
   },
   "outputs": [
    {
     "name": "stderr",
     "output_type": "stream",
     "text": [
      "100%|██████████| 15.0/15 [00:00<00:00, 68.73it/s]\n",
      " 82%|████████▏ | 8561/10399 [00:01<00:00, 7254.06it/s]\n"
     ]
    },
    {
     "name": "stdout",
     "output_type": "stream",
     "text": [
      "model:  als p@k 0.023577722042460805\n"
     ]
    },
    {
     "name": "stderr",
     "output_type": "stream",
     "text": [
      "100%|██████████| 8137/8137 [00:00<00:00, 263195.23it/s]\n",
      " 82%|████████▏ | 8561/10399 [00:00<00:00, 19272.74it/s]\n"
     ]
    },
    {
     "name": "stdout",
     "output_type": "stream",
     "text": [
      "model:  tfidf p@k 0.008636345218551238\n"
     ]
    },
    {
     "name": "stderr",
     "output_type": "stream",
     "text": [
      "100%|██████████| 8137/8137 [00:00<00:00, 247242.10it/s]\n",
      " 82%|████████▏ | 8561/10399 [00:00<00:00, 18511.21it/s]\n"
     ]
    },
    {
     "name": "stdout",
     "output_type": "stream",
     "text": [
      "model:  cosine p@k 0.004331847179154864\n"
     ]
    },
    {
     "name": "stderr",
     "output_type": "stream",
     "text": [
      "100%|██████████| 100/100 [00:01<00:00, 78.30it/s, correct=88.38%, skipped=1.60%]\n",
      " 82%|████████▏ | 8561/10399 [00:01<00:00, 7730.84it/s]\n"
     ]
    },
    {
     "name": "stdout",
     "output_type": "stream",
     "text": [
      "model:  bpr p@k 0.016054753842349914\n"
     ]
    },
    {
     "name": "stderr",
     "output_type": "stream",
     "text": [
      "100%|██████████| 8137/8137 [00:00<00:00, 267464.86it/s]\n",
      " 82%|████████▏ | 8561/10399 [00:00<00:00, 19231.09it/s]\n"
     ]
    },
    {
     "name": "stdout",
     "output_type": "stream",
     "text": [
      "model:  bm25 p@k 0.00334655955008917\n"
     ]
    }
   ],
   "source": [
    "artists, users, ratings = get_twitter()\n",
    "\n",
    "train, test = train_test_split(ratings, train_percentage=0.8)\n",
    "\n",
    "model_names = ['als', \n",
    "#                'nmslib_als', 'annoy_als', 'faiss_als', \n",
    "               'tfidf', 'cosine', 'bpr', 'bm25']\n",
    "\n",
    "twitter_dict_mean_pk = dict()\n",
    "\n",
    "for model_name in model_names:    \n",
    "    model = get_model(model_name)\n",
    "    # model = TFIDFRecommender()\n",
    "    model.fit(train)\n",
    "    p = mean_average_precision_at_k(model, train.T.tocsr(), test.T.tocsr(), K=20, num_threads=4)\n",
    "    twitter_dict_mean_pk[model_name] = p\n",
    "    print('model: ', model_name, 'p@k', p)"
   ]
  },
  {
   "cell_type": "code",
   "execution_count": 122,
   "metadata": {},
   "outputs": [
    {
     "data": {
      "text/plain": [
       "{'als': 0.08183796657495997,\n",
       " 'bm25': 0.01798546380322753,\n",
       " 'bpr': 0.062086806553607356,\n",
       " 'cosine': 0.014454071366977374,\n",
       " 'tfidf': 0.034040980577341604}"
      ]
     },
     "execution_count": 122,
     "metadata": {},
     "output_type": "execute_result"
    }
   ],
   "source": [
    "twitter_dict_pk"
   ]
  },
  {
   "cell_type": "code",
   "execution_count": 125,
   "metadata": {},
   "outputs": [
    {
     "data": {
      "text/plain": [
       "{'als': 0.023577722042460805,\n",
       " 'bm25': 0.00334655955008917,\n",
       " 'bpr': 0.016054753842349914,\n",
       " 'cosine': 0.004331847179154864,\n",
       " 'tfidf': 0.008636345218551238}"
      ]
     },
     "execution_count": 125,
     "metadata": {},
     "output_type": "execute_result"
    }
   ],
   "source": [
    "twitter_dict_mean_pk"
   ]
  },
  {
   "cell_type": "code",
   "execution_count": 180,
   "metadata": {
    "scrolled": false
   },
   "outputs": [
    {
     "data": {
      "text/plain": [
       "{'als': 0.19061238357916616,\n",
       " 'bm25': 0.14145695212969467,\n",
       " 'bpr': 0.0898032195250087,\n",
       " 'cosine': 0.053626105676711264,\n",
       " 'tfidf': 0.1770607415528869}"
      ]
     },
     "execution_count": 180,
     "metadata": {},
     "output_type": "execute_result"
    }
   ],
   "source": [
    "lastfm_dict"
   ]
  },
  {
   "cell_type": "markdown",
   "metadata": {},
   "source": [
    "## Test RandomRecommender"
   ]
  },
  {
   "cell_type": "code",
   "execution_count": 106,
   "metadata": {},
   "outputs": [],
   "source": [
    "artists, users, plays = get_twitter()"
   ]
  },
  {
   "cell_type": "code",
   "execution_count": 115,
   "metadata": {},
   "outputs": [
    {
     "name": "stderr",
     "output_type": "stream",
     "text": [
      " 83%|████████▎ | 8608/10399 [00:01<00:00, 7154.53it/s]\n"
     ]
    },
    {
     "data": {
      "text/plain": [
       "0.00032677574919684536"
      ]
     },
     "execution_count": 115,
     "metadata": {},
     "output_type": "execute_result"
    }
   ],
   "source": [
    "model = RandomRecommender()\n",
    "train, test = train_test_split(plays, train_percentage=0.8)\n",
    "model.fit(train)\n",
    "mean_average_precision_at_k(model, train.T.tocsr(), test.T.tocsr(), K=20, num_threads=4)"
   ]
  }
 ],
 "metadata": {
  "kernelspec": {
   "display_name": "Python 3",
   "language": "python",
   "name": "python3"
  },
  "language_info": {
   "codemirror_mode": {
    "name": "ipython",
    "version": 3
   },
   "file_extension": ".py",
   "mimetype": "text/x-python",
   "name": "python",
   "nbconvert_exporter": "python",
   "pygments_lexer": "ipython3",
   "version": "3.6.4"
  }
 },
 "nbformat": 4,
 "nbformat_minor": 2
}
